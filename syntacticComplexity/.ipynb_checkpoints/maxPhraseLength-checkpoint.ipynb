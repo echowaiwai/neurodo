{
 "cells": [
  {
   "cell_type": "code",
   "execution_count": 3,
   "metadata": {
    "collapsed": true
   },
   "outputs": [],
   "source": [
    "import nltk, re, pprint\n",
    "import numpy as np\n",
    "\n",
    "from collections import Counter\n",
    "from nltk import word_tokenize\n",
    "from urllib import request"
   ]
  },
  {
   "cell_type": "code",
   "execution_count": 49,
   "metadata": {
    "collapsed": true
   },
   "outputs": [],
   "source": [
    "def ie_preprocess(document):\n",
    "    sentences = nltk.sent_tokenize(document)\n",
    "    sentences = [nltk.word_tokenize(sent) for sent in sentences]\n",
    "    sentences = [nltk.pos_tag(sent) for sent in sentences]\n",
    "    return sentences"
   ]
  },
  {
   "cell_type": "code",
   "execution_count": 94,
   "metadata": {
    "collapsed": true
   },
   "outputs": [],
   "source": [
    "filename = \"/Users/williamshyr/Documents/MedHacks/cohere_proj/timecube_raw.txt\"\n",
    "f = open(filename, 'r')\n",
    "raw = f.read()"
   ]
  },
  {
   "cell_type": "code",
   "execution_count": 95,
   "metadata": {
    "collapsed": true
   },
   "outputs": [],
   "source": [
    "sentences = ie_preprocess(raw)"
   ]
  },
  {
   "cell_type": "code",
   "execution_count": 103,
   "metadata": {
    "collapsed": false
   },
   "outputs": [
    {
     "data": {
      "text/plain": [
       "[('The', 'DT'),\n",
       " ('bible', 'JJ'),\n",
       " ('time', 'NN'),\n",
       " ('was', 'VBD'),\n",
       " ('wrong', 'JJ'),\n",
       " ('then', 'RB'),\n",
       " ('and', 'CC'),\n",
       " ('it', 'PRP'),\n",
       " ('proved', 'VBD'),\n",
       " ('wrong', 'JJ'),\n",
       " ('today', 'NN'),\n",
       " ('.', '.')]"
      ]
     },
     "execution_count": 103,
     "metadata": {},
     "output_type": "execute_result"
    }
   ],
   "source": [
    "sentences[3]"
   ]
  },
  {
   "cell_type": "code",
   "execution_count": 111,
   "metadata": {
    "collapsed": false
   },
   "outputs": [
    {
     "name": "stdout",
     "output_type": "stream",
     "text": [
      "(S\n",
      "  (NP (NBAR The/DT bible/JJ time/NN))\n",
      "  was/VBD\n",
      "  wrong/JJ\n",
      "  then/RB\n",
      "  and/CC\n",
      "  it/PRP\n",
      "  proved/VBD\n",
      "  (NP (NBAR wrong/JJ today/NN))\n",
      "  ./.)\n"
     ]
    }
   ],
   "source": [
    "# grammar = \"NP: {<DT|PP\\$>?<JJ>*<NN>}\"\n",
    "grammar = r\"\"\"\n",
    "    NBAR:\n",
    "        {<DT|PP\\$>?<NN.*|JJ>*<NN.*>}  # Nouns and Adjectives, terminated with Nouns\n",
    "        \n",
    "    NP:\n",
    "        {<NBAR>}\n",
    "        {<NBAR><IN><NBAR>}  # Above, connected with in/of/etc...\n",
    "\"\"\"\n",
    "cp = nltk.RegexpParser(grammar)\n",
    "result = cp.parse(sentences[3])\n",
    "print(result)\n",
    "# print(len(result))\n",
    "# maxLen = 0\n",
    "# for i in range(len(sentences)):\n",
    "#     result = cp.parse(sentences[i])\n",
    "#     for i in range(len(result)):\n",
    "#         if isinstance(result[i], nltk.tree.Tree):\n",
    "#             if len(result[i]) > maxLen:\n",
    "#                 maxLen = len(result[i])"
   ]
  },
  {
   "cell_type": "code",
   "execution_count": 119,
   "metadata": {
    "collapsed": false
   },
   "outputs": [
    {
     "name": "stdout",
     "output_type": "stream",
     "text": [
      "5\n"
     ]
    }
   ],
   "source": [
    "grammar = \"NP: {<DT|PP\\$>?<JJ>*<NN>}\"\n",
    "# grammar = r\"\"\"\n",
    "#     NBAR:\n",
    "#         {<DT|PP\\$>?<NN.*|JJ>*<NN.*>}  # Nouns and Adjectives, terminated with Nouns\n",
    "        \n",
    "#     NP:\n",
    "#         {<NBAR>}\n",
    "#         {<NBAR><IN><NBAR>}  # Above, connected with in/of/etc...\n",
    "# \"\"\"\n",
    "cp = nltk.RegexpParser(grammar)\n",
    "# result = cp.parse(sentences[3])\n",
    "# print(result)\n",
    "# print(len(result))\n",
    "maxLen = 0\n",
    "for i in range(len(sentences)):\n",
    "    result = cp.parse(sentences[i])\n",
    "    for i in range(len(result)):\n",
    "        if isinstance(result[i], nltk.tree.Tree):\n",
    "            if len(result[i]) > maxLen:\n",
    "                maxLen = len(result[i])\n",
    "print(maxLen)"
   ]
  },
  {
   "cell_type": "code",
   "execution_count": 109,
   "metadata": {
    "collapsed": false
   },
   "outputs": [
    {
     "name": "stdout",
     "output_type": "stream",
     "text": [
      "(S\n",
      "  (NP The/DT bible/JJ time/NN)\n",
      "  was/VBD\n",
      "  wrong/JJ\n",
      "  then/RB\n",
      "  and/CC\n",
      "  it/PRP\n",
      "  proved/VBD\n",
      "  (NP wrong/JJ today/NN)\n",
      "  ./.)\n"
     ]
    }
   ],
   "source": [
    "grammar = \"NP: {<DT|PP\\$>?<JJ>*<NN>}\"\n",
    "cp = nltk.RegexpParser(grammar)\n",
    "result = cp.parse(sentences[3])\n",
    "print(result)\n",
    "# print(len(result))\n",
    "# maxLen = 0\n",
    "# for i in range(len(sentences)):\n",
    "#     result = cp.parse(sentences[i])\n",
    "#     for i in range(len(result)):\n",
    "#         if isinstance(result[i], nltk.tree.Tree):\n",
    "#             if len(result[i]) > maxLen:\n",
    "#                 maxLen = len(result[i])"
   ]
  },
  {
   "cell_type": "code",
   "execution_count": 123,
   "metadata": {
    "collapsed": false
   },
   "outputs": [],
   "source": [
    "# get training and testing data\n",
    "from nltk.corpus import conll2000\n",
    "test_sents = conll2000.chunked_sents('test.txt', chunk_types=['NP'])\n",
    "train_sents = conll2000.chunked_sents('train.txt', chunk_types=['NP'])"
   ]
  },
  {
   "cell_type": "code",
   "execution_count": 121,
   "metadata": {
    "collapsed": false,
    "scrolled": true
   },
   "outputs": [
    {
     "name": "stdout",
     "output_type": "stream",
     "text": [
      "showing info https://raw.githubusercontent.com/nltk/nltk_data/gh-pages/index.xml\n"
     ]
    },
    {
     "data": {
      "text/plain": [
       "True"
      ]
     },
     "execution_count": 121,
     "metadata": {},
     "output_type": "execute_result"
    }
   ],
   "source": [
    "NPChunker = ChunkParser(train_sents)"
   ]
  },
  {
   "cell_type": "code",
   "execution_count": null,
   "metadata": {
    "collapsed": true
   },
   "outputs": [],
   "source": [
    "class ChunkParser(nltk.ChunkParserI):\n",
    "    def __init__(self, train_sents):\n",
    "        train_data = [[(t,c) for w,t,c in nltk.chunk.tree2conlltags(sent)]\n",
    "            for sent in train_sents]\n",
    "        self.tagger = nltk.TrigramTagger(train_data)\n",
    "    def parse(self, sentence):\n",
    "        pos_tags = [pos for (word,pos) in sentence]\n",
    "        tagged_pos_tags = self.tagger.tag(pos_tags)\n",
    "        chunktags = [chunktag for (pos, chunktag) in tagged_pos_tags]\n",
    "        conlltags = [(word, pos, chunktag) for ((word,pos),chunktag)\n",
    "            in zip(sentence, chunktags)]\n",
    "        return nltk.chunk.conlltags2tree(conlltags)"
   ]
  }
 ],
 "metadata": {
  "kernelspec": {
   "display_name": "Python 3",
   "language": "python",
   "name": "python3"
  },
  "language_info": {
   "codemirror_mode": {
    "name": "ipython",
    "version": 3
   },
   "file_extension": ".py",
   "mimetype": "text/x-python",
   "name": "python",
   "nbconvert_exporter": "python",
   "pygments_lexer": "ipython3",
   "version": "3.5.2"
  }
 },
 "nbformat": 4,
 "nbformat_minor": 0
}
