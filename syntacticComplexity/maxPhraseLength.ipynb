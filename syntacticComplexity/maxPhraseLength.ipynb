{
 "cells": [
  {
   "cell_type": "code",
   "execution_count": 3,
   "metadata": {
    "collapsed": true
   },
   "outputs": [],
   "source": [
    "import nltk, re, pprint\n",
    "import numpy as np\n",
    "\n",
    "from collections import Counter\n",
    "from nltk import word_tokenize\n",
    "from urllib import request"
   ]
  },
  {
   "cell_type": "code",
   "execution_count": 49,
   "metadata": {
    "collapsed": true
   },
   "outputs": [],
   "source": [
    "def ie_preprocess(document):\n",
    "    sentences = nltk.sent_tokenize(document)\n",
    "    sentences = [nltk.word_tokenize(sent) for sent in sentences]\n",
    "    sentences = [nltk.pos_tag(sent) for sent in sentences]\n",
    "    return sentences"
   ]
  },
  {
   "cell_type": "code",
   "execution_count": 94,
   "metadata": {
    "collapsed": true
   },
   "outputs": [],
   "source": [
    "filename = \"/Users/williamshyr/Documents/MedHacks/cohere_proj/timecube_raw.txt\"\n",
    "f = open(filename, 'r')\n",
    "raw = f.read()"
   ]
  },
  {
   "cell_type": "code",
   "execution_count": 95,
   "metadata": {
    "collapsed": true
   },
   "outputs": [],
   "source": [
    "sentences = ie_preprocess(raw)"
   ]
  },
  {
   "cell_type": "code",
   "execution_count": 103,
   "metadata": {
    "collapsed": false
   },
   "outputs": [
    {
     "data": {
      "text/plain": [
       "[('The', 'DT'),\n",
       " ('bible', 'JJ'),\n",
       " ('time', 'NN'),\n",
       " ('was', 'VBD'),\n",
       " ('wrong', 'JJ'),\n",
       " ('then', 'RB'),\n",
       " ('and', 'CC'),\n",
       " ('it', 'PRP'),\n",
       " ('proved', 'VBD'),\n",
       " ('wrong', 'JJ'),\n",
       " ('today', 'NN'),\n",
       " ('.', '.')]"
      ]
     },
     "execution_count": 103,
     "metadata": {},
     "output_type": "execute_result"
    }
   ],
   "source": [
    "sentences[3]"
   ]
  },
  {
   "cell_type": "code",
   "execution_count": 111,
   "metadata": {
    "collapsed": false
   },
   "outputs": [
    {
     "name": "stdout",
     "output_type": "stream",
     "text": [
      "(S\n",
      "  (NP (NBAR The/DT bible/JJ time/NN))\n",
      "  was/VBD\n",
      "  wrong/JJ\n",
      "  then/RB\n",
      "  and/CC\n",
      "  it/PRP\n",
      "  proved/VBD\n",
      "  (NP (NBAR wrong/JJ today/NN))\n",
      "  ./.)\n"
     ]
    }
   ],
   "source": [
    "# grammar = \"NP: {<DT|PP\\$>?<JJ>*<NN>}\"\n",
    "grammar = r\"\"\"\n",
    "    NBAR:\n",
    "        {<DT|PP\\$>?<NN.*|JJ>*<NN.*>}  # Nouns and Adjectives, terminated with Nouns\n",
    "        \n",
    "    NP:\n",
    "        {<NBAR>}\n",
    "        {<NBAR><IN><NBAR>}  # Above, connected with in/of/etc...\n",
    "\"\"\"\n",
    "cp = nltk.RegexpParser(grammar)\n",
    "result = cp.parse(sentences[3])\n",
    "print(result)\n",
    "# print(len(result))\n",
    "# maxLen = 0\n",
    "# for i in range(len(sentences)):\n",
    "#     result = cp.parse(sentences[i])\n",
    "#     for i in range(len(result)):\n",
    "#         if isinstance(result[i], nltk.tree.Tree):\n",
    "#             if len(result[i]) > maxLen:\n",
    "#                 maxLen = len(result[i])"
   ]
  },
  {
   "cell_type": "code",
   "execution_count": 119,
   "metadata": {
    "collapsed": false
   },
   "outputs": [
    {
     "name": "stdout",
     "output_type": "stream",
     "text": [
      "5\n"
     ]
    }
   ],
   "source": [
    "grammar = \"NP: {<DT|PP\\$>?<JJ>*<NN>}\"\n",
    "# grammar = r\"\"\"\n",
    "#     NBAR:\n",
    "#         {<DT|PP\\$>?<NN.*|JJ>*<NN.*>}  # Nouns and Adjectives, terminated with Nouns\n",
    "        \n",
    "#     NP:\n",
    "#         {<NBAR>}\n",
    "#         {<NBAR><IN><NBAR>}  # Above, connected with in/of/etc...\n",
    "# \"\"\"\n",
    "cp = nltk.RegexpParser(grammar)\n",
    "# result = cp.parse(sentences[3])\n",
    "# print(result)\n",
    "# print(len(result))\n",
    "maxLen = 0\n",
    "for i in range(len(sentences)):\n",
    "    result = cp.parse(sentences[i])\n",
    "    for i in range(len(result)):\n",
    "        if isinstance(result[i], nltk.tree.Tree):\n",
    "            if len(result[i]) > maxLen:\n",
    "                maxLen = len(result[i])\n",
    "print(maxLen)"
   ]
  },
  {
   "cell_type": "code",
   "execution_count": 109,
   "metadata": {
    "collapsed": false
   },
   "outputs": [
    {
     "name": "stdout",
     "output_type": "stream",
     "text": [
      "(S\n",
      "  (NP The/DT bible/JJ time/NN)\n",
      "  was/VBD\n",
      "  wrong/JJ\n",
      "  then/RB\n",
      "  and/CC\n",
      "  it/PRP\n",
      "  proved/VBD\n",
      "  (NP wrong/JJ today/NN)\n",
      "  ./.)\n"
     ]
    }
   ],
   "source": [
    "grammar = \"NP: {<DT|PP\\$>?<JJ>*<NN>}\"\n",
    "cp = nltk.RegexpParser(grammar)\n",
    "result = cp.parse(sentences[3])\n",
    "print(result)\n",
    "# print(len(result))\n",
    "# maxLen = 0\n",
    "# for i in range(len(sentences)):\n",
    "#     result = cp.parse(sentences[i])\n",
    "#     for i in range(len(result)):\n",
    "#         if isinstance(result[i], nltk.tree.Tree):\n",
    "#             if len(result[i]) > maxLen:\n",
    "#                 maxLen = len(result[i])"
   ]
  },
  {
   "cell_type": "code",
   "execution_count": 123,
   "metadata": {
    "collapsed": false
   },
   "outputs": [],
   "source": [
    "# get training and testing data\n",
    "from nltk.corpus import conll2000\n",
    "test_sents = conll2000.chunked_sents('test.txt', chunk_types=['NP'])\n",
    "train_sents = conll2000.chunked_sents('train.txt', chunk_types=['NP'])"
   ]
  },
  {
   "cell_type": "code",
   "execution_count": 125,
   "metadata": {
    "collapsed": false,
    "scrolled": true
   },
   "outputs": [],
   "source": [
    "NPChunker = ChunkParser(train_sents)"
   ]
  },
  {
   "cell_type": "code",
   "execution_count": 124,
   "metadata": {
    "collapsed": true
   },
   "outputs": [],
   "source": [
    "class ChunkParser(nltk.ChunkParserI):\n",
    "    def __init__(self, train_sents):\n",
    "        train_data = [[(t,c) for w,t,c in nltk.chunk.tree2conlltags(sent)]\n",
    "            for sent in train_sents]\n",
    "        self.tagger = nltk.TrigramTagger(train_data)\n",
    "    def parse(self, sentence):\n",
    "        pos_tags = [pos for (word,pos) in sentence]\n",
    "        tagged_pos_tags = self.tagger.tag(pos_tags)\n",
    "        chunktags = [chunktag for (pos, chunktag) in tagged_pos_tags]\n",
    "        conlltags = [(word, pos, chunktag) for ((word,pos),chunktag)\n",
    "            in zip(sentence, chunktags)]\n",
    "        return nltk.chunk.conlltags2tree(conlltags)"
   ]
  },
  {
   "cell_type": "code",
   "execution_count": 126,
   "metadata": {
    "collapsed": false
   },
   "outputs": [
    {
     "name": "stdout",
     "output_type": "stream",
     "text": [
      "ChunkParse score:\n",
      "    IOB Accuracy:  93.3%\n",
      "    Precision:     82.5%\n",
      "    Recall:        86.8%\n",
      "    F-Measure:     84.6%\n"
     ]
    }
   ],
   "source": [
    "print(NPChunker.evaluate(test_sents))"
   ]
  },
  {
   "cell_type": "code",
   "execution_count": 127,
   "metadata": {
    "collapsed": false
   },
   "outputs": [
    {
     "ename": "TypeError",
     "evalue": "parse() missing 1 required positional argument: 'sentence'",
     "output_type": "error",
     "traceback": [
      "\u001b[0;31m---------------------------------------------------------------------------\u001b[0m",
      "\u001b[0;31mTypeError\u001b[0m                                 Traceback (most recent call last)",
      "\u001b[0;32m<ipython-input-127-9911c44fc0a3>\u001b[0m in \u001b[0;36m<module>\u001b[0;34m()\u001b[0m\n\u001b[0;32m----> 1\u001b[0;31m \u001b[0mChunkParser\u001b[0m\u001b[0;34m.\u001b[0m\u001b[0mparse\u001b[0m\u001b[0;34m(\u001b[0m\u001b[0msentences\u001b[0m\u001b[0;34m[\u001b[0m\u001b[0;36m3\u001b[0m\u001b[0;34m]\u001b[0m\u001b[0;34m)\u001b[0m\u001b[0;34m\u001b[0m\u001b[0m\n\u001b[0m",
      "\u001b[0;31mTypeError\u001b[0m: parse() missing 1 required positional argument: 'sentence'"
     ]
    }
   ],
   "source": [
    "ChunkParser.parse(sentences[3])"
   ]
  },
  {
   "cell_type": "code",
   "execution_count": 128,
   "metadata": {
    "collapsed": false
   },
   "outputs": [
    {
     "ename": "NotImplementedError",
     "evalue": "Use label() to access a node label.",
     "output_type": "error",
     "traceback": [
      "\u001b[0;31m---------------------------------------------------------------------------\u001b[0m",
      "\u001b[0;31mNotImplementedError\u001b[0m                       Traceback (most recent call last)",
      "\u001b[0;32m<ipython-input-128-6058f01c8a66>\u001b[0m in \u001b[0;36m<module>\u001b[0;34m()\u001b[0m\n\u001b[0;32m----> 1\u001b[0;31m \u001b[0mresult\u001b[0m\u001b[0;34m.\u001b[0m\u001b[0mnode\u001b[0m\u001b[0;34m\u001b[0m\u001b[0m\n\u001b[0m",
      "\u001b[0;32m/Users/williamshyr/anaconda/lib/python3.5/site-packages/nltk/tree.py\u001b[0m in \u001b[0;36m_get_node\u001b[0;34m(self)\u001b[0m\n\u001b[1;32m    196\u001b[0m     \u001b[0;32mdef\u001b[0m \u001b[0m_get_node\u001b[0m\u001b[0;34m(\u001b[0m\u001b[0mself\u001b[0m\u001b[0;34m)\u001b[0m\u001b[0;34m:\u001b[0m\u001b[0;34m\u001b[0m\u001b[0m\n\u001b[1;32m    197\u001b[0m         \u001b[0;34m\"\"\"Outdated method to access the node value; use the label() method instead.\"\"\"\u001b[0m\u001b[0;34m\u001b[0m\u001b[0m\n\u001b[0;32m--> 198\u001b[0;31m         \u001b[0;32mraise\u001b[0m \u001b[0mNotImplementedError\u001b[0m\u001b[0;34m(\u001b[0m\u001b[0;34m\"Use label() to access a node label.\"\u001b[0m\u001b[0;34m)\u001b[0m\u001b[0;34m\u001b[0m\u001b[0m\n\u001b[0m\u001b[1;32m    199\u001b[0m     \u001b[0;32mdef\u001b[0m \u001b[0m_set_node\u001b[0m\u001b[0;34m(\u001b[0m\u001b[0mself\u001b[0m\u001b[0;34m,\u001b[0m \u001b[0mvalue\u001b[0m\u001b[0;34m)\u001b[0m\u001b[0;34m:\u001b[0m\u001b[0;34m\u001b[0m\u001b[0m\n\u001b[1;32m    200\u001b[0m         \u001b[0;34m\"\"\"Outdated method to set the node value; use the set_label() method instead.\"\"\"\u001b[0m\u001b[0;34m\u001b[0m\u001b[0m\n",
      "\u001b[0;31mNotImplementedError\u001b[0m: Use label() to access a node label."
     ]
    }
   ],
   "source": []
  },
  {
   "cell_type": "code",
   "execution_count": null,
   "metadata": {
    "collapsed": true
   },
   "outputs": [],
   "source": []
  }
 ],
 "metadata": {
  "kernelspec": {
   "display_name": "Python 3",
   "language": "python",
   "name": "python3"
  },
  "language_info": {
   "codemirror_mode": {
    "name": "ipython",
    "version": 3
   },
   "file_extension": ".py",
   "mimetype": "text/x-python",
   "name": "python",
   "nbconvert_exporter": "python",
   "pygments_lexer": "ipython3",
   "version": "3.5.2"
  }
 },
 "nbformat": 4,
 "nbformat_minor": 0
}
